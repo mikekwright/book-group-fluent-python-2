{
 "cells": [
  {
   "cell_type": "markdown",
   "id": "ec0090eb-38ad-4a0b-9973-a4d194a36232",
   "metadata": {},
   "source": [
    "Chapter 2 - An Array of Sequences\n",
    "============================================\n",
    "\n",
    "In this chapter we are going to try to get a handle on one of the key aspects of python (which came from ABC) that idea that there are a number of different types of collections that can all interact with similar operations. "
   ]
  },
  {
   "cell_type": "markdown",
   "id": "efae7887-f3cf-4395-9f15-e58987086821",
   "metadata": {},
   "source": [
    "It is important to realize that there are two main \"families\" of sequences that are built-in to the python language (implementation will be in C for optimization)\n",
    "1. Container\n",
    "2. Flat\n",
    "\n",
    "The main difference is what they can hold and how they are optimized in memory for use.  Those in the `Container` family can hold complex objects, which could include other containers.  These include collections such as `list`, `tuple`, `map`, etc.  The `Flat` sequences are less flexible but more optimized and can only hold simple types, and must be the same type for all values.  These sequences include `array.array`, `str`, `bytes`.\n",
    "\n",
    "At the end of the day this is really to handle memory optimization.  When you use a `Container` the identity of each of the elements must be captured in a given entry, where the flat can keep some \"metadata\" only once for optimization."
   ]
  },
  {
   "cell_type": "code",
   "execution_count": null,
   "id": "ecf21da4-5707-412b-a775-31d47ee365dc",
   "metadata": {},
   "outputs": [],
   "source": [
    "import sys\n",
    "\n",
    "from array import array\n",
    "\n",
    "float_one = array('d', [1.0, 2.0, 3.0])\n",
    "float_two = [1.0, 2.0, 3.0]\n",
    "\n",
    "display(sys.getsizeof(float_one))\n",
    "display(sys.getsizeof(float_two))"
   ]
  },
  {
   "cell_type": "markdown",
   "id": "d8bffe26-e31b-46d0-b2e2-22e39658004c",
   "metadata": {},
   "source": [
    "There is also a different way to group our sequences, those that fall in the category of **Mutable** vs **Immutable**.  The common sequences that we use that fall in the immutable category include `tuple`, `str` and `bytes`.  This means that both `flat` and `container` sequences could be either."
   ]
  },
  {
   "cell_type": "markdown",
   "id": "6d66fe0a-70f1-4392-a81c-427322bf3910",
   "metadata": {},
   "source": [
    "## List Comprehension (Listcomp)\n",
    "\n",
    "One of the more unique features that exist in python is that of comprehensions (list and generator). In this section we can discuss what they comprehensions look like and why/when you would want to use one vs not use one."
   ]
  },
  {
   "cell_type": "code",
   "execution_count": null,
   "id": "a796eeec-9b77-4404-8d44-b6c201c852e0",
   "metadata": {},
   "outputs": [],
   "source": [
    "outputs = []\n",
    "for x in range(5):\n",
    "    outputs.append(x * 2)\n",
    "outputs"
   ]
  },
  {
   "cell_type": "code",
   "execution_count": null,
   "id": "51c90250-6ecf-4531-9701-37f9f0d6318d",
   "metadata": {},
   "outputs": [],
   "source": [
    "[n*2 for n in range(5)]"
   ]
  },
  {
   "cell_type": "markdown",
   "id": "d498c2d6-8fd4-4b82-a062-f64ae9856dc2",
   "metadata": {},
   "source": [
    "Less commonly user are generator comprehensions, but they can still be useful."
   ]
  },
  {
   "cell_type": "code",
   "execution_count": null,
   "id": "594a8efe-51e7-4df3-a0e5-ea9cfaef9bcb",
   "metadata": {},
   "outputs": [],
   "source": [
    "from itertools import count\n",
    "\n",
    "double_range = (n * 2 for n in count(start=0))\n",
    "\n",
    "[n[0] for n in zip(double_range, range(5))]"
   ]
  },
  {
   "cell_type": "markdown",
   "id": "622426c5-ba8b-4ae6-aa78-9dd95506e597",
   "metadata": {},
   "source": [
    "What is the **Walrus Operator**?  Well this is a way to capture the last result from a request that you run.  It is much like trying to return the auto increment id when you are working with a database insert query."
   ]
  },
  {
   "cell_type": "code",
   "execution_count": null,
   "id": "4a37302c-76e3-44f2-a32b-50b212c89290",
   "metadata": {},
   "outputs": [],
   "source": [
    "[last := n[0] for n in zip(double_range, range(5))]"
   ]
  },
  {
   "cell_type": "code",
   "execution_count": null,
   "id": "76c81e2a-23f3-4c4a-921a-ddd2e220240a",
   "metadata": {},
   "outputs": [],
   "source": [
    "last"
   ]
  },
  {
   "cell_type": "code",
   "execution_count": null,
   "id": "b7414682-7500-472f-b39e-12e5d9c695db",
   "metadata": {},
   "outputs": [],
   "source": []
  }
 ],
 "metadata": {
  "kernelspec": {
   "display_name": "Python 3 (ipykernel)",
   "language": "python",
   "name": "python3"
  },
  "language_info": {
   "codemirror_mode": {
    "name": "ipython",
    "version": 3
   },
   "file_extension": ".py",
   "mimetype": "text/x-python",
   "name": "python",
   "nbconvert_exporter": "python",
   "pygments_lexer": "ipython3",
   "version": "3.10.4"
  }
 },
 "nbformat": 4,
 "nbformat_minor": 5
}
