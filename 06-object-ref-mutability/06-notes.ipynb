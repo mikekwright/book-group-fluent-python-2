{
 "cells": [
  {
   "cell_type": "markdown",
   "id": "8c40c778-8f35-450c-bbc8-5ab7bf1ac1db",
   "metadata": {},
   "source": [
    "# Chapter 6 - Object References, Mutability and Recycling\n",
    "\n",
    "In this chapter we will spend sometime to better understand the low level definition of types in the python system as well as how `is` compares to `==` and when you would want to use one over the other.  We will also spend sometime on the garbage collection system used in python."
   ]
  },
  {
   "cell_type": "markdown",
   "id": "aa057541-075b-4ac0-851f-3e75f84274b2",
   "metadata": {},
   "source": [
    "First thing to cover is:\n",
    "> Variables are not boxes\n",
    "\n",
    "They key takeaway here is that a variable references a location and does not directly hold a value itself."
   ]
  },
  {
   "cell_type": "code",
   "execution_count": 1,
   "id": "7979ffa0-1c97-43d3-9b7e-8e2f098aa7cb",
   "metadata": {},
   "outputs": [
    {
     "data": {
      "text/plain": [
       "[1, 2, 3, 4]"
      ]
     },
     "execution_count": 1,
     "metadata": {},
     "output_type": "execute_result"
    }
   ],
   "source": [
    "a = [1, 2, 3]\n",
    "b = a\n",
    "a.append(4)\n",
    "b"
   ]
  },
  {
   "cell_type": "markdown",
   "id": "b5bcfde5-6131-41e2-85a6-5aa24075a1b2",
   "metadata": {},
   "source": [
    "Another topic is the time when binding a variable to a value takes place.  This will, obviously, happen after the instance of the object has been created, but if there is an exception it will leave you with an unbound variable."
   ]
  },
  {
   "cell_type": "code",
   "execution_count": 2,
   "id": "28f0f001-fe01-4241-8be0-fffcab674686",
   "metadata": {},
   "outputs": [
    {
     "name": "stdout",
     "output_type": "stream",
     "text": [
      "New Gizmo 140661661789072\n",
      "New Gizmo 140661661778800\n",
      "Expected error\n",
      "Here is 140661661789072\n"
     ]
    },
    {
     "ename": "NameError",
     "evalue": "name '_2' is not defined",
     "output_type": "error",
     "traceback": [
      "\u001b[0;31m---------------------------------------------------------------------------\u001b[0m",
      "\u001b[0;31mNameError\u001b[0m                                 Traceback (most recent call last)",
      "Input \u001b[0;32mIn [2]\u001b[0m, in \u001b[0;36m<cell line: 13>\u001b[0;34m()\u001b[0m\n\u001b[1;32m     11\u001b[0m     \u001b[38;5;28mprint\u001b[39m(\u001b[38;5;124mf\u001b[39m\u001b[38;5;124m'\u001b[39m\u001b[38;5;124mExpected error\u001b[39m\u001b[38;5;124m'\u001b[39m)\n\u001b[1;32m     12\u001b[0m \u001b[38;5;28mprint\u001b[39m(\u001b[38;5;124mf\u001b[39m\u001b[38;5;124m'\u001b[39m\u001b[38;5;124mHere is \u001b[39m\u001b[38;5;132;01m{\u001b[39;00m_1\u001b[38;5;132;01m}\u001b[39;00m\u001b[38;5;124m'\u001b[39m)\n\u001b[0;32m---> 13\u001b[0m \u001b[38;5;28mprint\u001b[39m(\u001b[38;5;124mf\u001b[39m\u001b[38;5;124m'\u001b[39m\u001b[38;5;124mHere is \u001b[39m\u001b[38;5;132;01m{\u001b[39;00m_2\u001b[38;5;132;01m}\u001b[39;00m\u001b[38;5;124m'\u001b[39m)\n",
      "\u001b[0;31mNameError\u001b[0m: name '_2' is not defined"
     ]
    }
   ],
   "source": [
    "class Gizmo:\n",
    "    def __init__(self):\n",
    "        print(f'New Gizmo {id(self)}')\n",
    "    def __repr__(self):\n",
    "        return str(id(self))\n",
    "\n",
    "try:\n",
    "    _1 = Gizmo()\n",
    "    _2 = Gizmo() + 1\n",
    "except:\n",
    "    print(f'Expected error')\n",
    "print(f'Here is {_1}')\n",
    "print(f'Here is {_2}')"
   ]
  },
  {
   "cell_type": "markdown",
   "id": "af684b27-0b3e-44a4-b17a-da5b84b88abc",
   "metadata": {},
   "source": [
    "## Comparing `==` to `is`\n",
    "\n",
    "A very important topic to discuss in python is the notion of equality and how the different operators work.  Python provides two mechanisms for comparing variables, one that should compare the equality of the values in the object and the other to compare the _identity_ of the objects.\n",
    "\n",
    "Key differences:\n",
    "* `is` compares the `id()` of objects and **CANNOT BE OVERLOADED**\n",
    "* `is` is faster then `==`\n",
    "* `==` defaults to comparing the reference, but can be overloaded by `__eq__`\n",
    "\n",
    "It is often best to use the `is` when checking for a singleton value to be referenced by a variable as in the case of `None`. So for best practices you will want to have python code following the below items:\n",
    "```\n",
    "# Don't do this\n",
    "if value == None:\n",
    "    print('Hello I am None')\n",
    "    \n",
    "# Do this\n",
    "if value is None:\n",
    "    print('This is none')\n",
    "```"
   ]
  },
  {
   "cell_type": "code",
   "execution_count": 3,
   "id": "09d44166-c9fc-4e85-a2c3-60afe4ebbf74",
   "metadata": {},
   "outputs": [
    {
     "data": {
      "text/plain": [
       "93966978730144"
      ]
     },
     "execution_count": 3,
     "metadata": {},
     "output_type": "execute_result"
    }
   ],
   "source": [
    "id(None)"
   ]
  },
  {
   "cell_type": "code",
   "execution_count": 4,
   "id": "bbb72d48-de29-48fc-8c92-d5d44202c333",
   "metadata": {},
   "outputs": [
    {
     "name": "stdout",
     "output_type": "stream",
     "text": [
      "MyGizmo id 140661660896848\n",
      "MyGizmo id 140661660896800\n",
      "Equality True\n",
      "Identity False\n"
     ]
    }
   ],
   "source": [
    "class MyGizmo:\n",
    "    def __init__(self, value):\n",
    "        self.value = value\n",
    "        print(f'MyGizmo id {id(self)}')\n",
    "    def __eq__(self, other):\n",
    "        return self.value == other.value\n",
    "    def __repr__(self):\n",
    "        return str(id(self))\n",
    "\n",
    "a = MyGizmo(1)\n",
    "b = MyGizmo(1)\n",
    "print(f'Equality {a == b}')\n",
    "print(f'Identity {a is b}')"
   ]
  },
  {
   "cell_type": "code",
   "execution_count": 8,
   "id": "9c3f9f04-bddf-40d7-afe6-afb4122d611c",
   "metadata": {},
   "outputs": [
    {
     "name": "stdout",
     "output_type": "stream",
     "text": [
      "ok\n"
     ]
    }
   ],
   "source": [
    "y = None\n",
    "x = [] if y is None else y   # y is None ? [] : y\n",
    "x = y or []                  \n",
    "if x:\n",
    "    print('blah')\n",
    "if not x:\n",
    "    print('ok')\n"
   ]
  },
  {
   "cell_type": "markdown",
   "id": "2b1417dc-0e19-4655-a4aa-de0713788b4d",
   "metadata": {},
   "source": [
    "## Shallow and Deep\n",
    "\n",
    "Like most programming languages that deal with references, the default notion of _copy_ is a shallow copy.  This will only grab a high level copy of a value and if any of the values are references it will **share** the reference and not copy it."
   ]
  },
  {
   "cell_type": "code",
   "execution_count": 17,
   "id": "75532b4a-f04d-4a0c-8ac3-ab30a7f3da75",
   "metadata": {},
   "outputs": [
    {
     "name": "stdout",
     "output_type": "stream",
     "text": [
      "[1, 2, 3, [4, 5]]\n",
      "[1, 2, 3, [4, 5]]\n",
      "140661289070976 140661661806464\n",
      "[2, 2, 3, [4, 5]]\n",
      "[1, 2, 3, [4, 5]]\n",
      "[2, 2, 3, [4, 5, 6]]\n",
      "[1, 2, 3, [4, 5, 6]]\n"
     ]
    }
   ],
   "source": [
    "a = [1, 2, 3, [4, 5]]\n",
    "b = a.copy()\n",
    "print(a)\n",
    "print(b)\n",
    "print(id(a), id(b))\n",
    "\n",
    "a[0] = 2\n",
    "print(a)\n",
    "print(b)\n",
    "\n",
    "a[-1].append(6)\n",
    "print(a)\n",
    "print(b)"
   ]
  },
  {
   "cell_type": "markdown",
   "id": "f8705437-05e2-4ff5-b1ae-556c9969541d",
   "metadata": {},
   "source": [
    "You can perform a deep copy using `copy.deepcopy`"
   ]
  },
  {
   "cell_type": "code",
   "execution_count": 19,
   "id": "c968acce-afaf-4a2d-b52d-2a5296ab5d63",
   "metadata": {},
   "outputs": [
    {
     "name": "stdout",
     "output_type": "stream",
     "text": [
      "[1, 2, 3, [4, 5]]\n",
      "[1, 2, 3, [4, 5]]\n",
      "140661288747072 140661288747648\n",
      "[2, 2, 3, [4, 5]]\n",
      "[1, 2, 3, [4, 5]]\n",
      "[2, 2, 3, [4, 5, 6]]\n",
      "[1, 2, 3, [4, 5]]\n"
     ]
    }
   ],
   "source": [
    "import copy\n",
    "\n",
    "a = [1, 2, 3, [4, 5]]\n",
    "b = copy.deepcopy(a)\n",
    "print(a)\n",
    "print(b)\n",
    "print(id(a), id(b))\n",
    "\n",
    "a[0] = 2\n",
    "print(a)\n",
    "print(b)\n",
    "\n",
    "a[-1].append(6)\n",
    "print(a)\n",
    "print(b)"
   ]
  },
  {
   "cell_type": "code",
   "execution_count": null,
   "id": "ff9df353-6bb1-401e-bcfd-4f4db25142dc",
   "metadata": {},
   "outputs": [],
   "source": []
  }
 ],
 "metadata": {
  "kernelspec": {
   "display_name": "Python 3 (ipykernel)",
   "language": "python",
   "name": "python3"
  },
  "language_info": {
   "codemirror_mode": {
    "name": "ipython",
    "version": 3
   },
   "file_extension": ".py",
   "mimetype": "text/x-python",
   "name": "python",
   "nbconvert_exporter": "python",
   "pygments_lexer": "ipython3",
   "version": "3.10.4"
  }
 },
 "nbformat": 4,
 "nbformat_minor": 5
}
