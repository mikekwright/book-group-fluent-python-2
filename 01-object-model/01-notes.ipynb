{
 "cells": [
  {
   "cell_type": "markdown",
   "id": "cf2519ac",
   "metadata": {},
   "source": [
    "Chapter 1 - Python Data Model\n",
    "=============================\n",
    "\n",
    "The python data model follows a pattern that is usually different from the ones that we are\n",
    "used to in other programming languages.  To be able to extend the functionality of your custom\n",
    "types you should provide implementations of \"_dunder methods_\" and use python methods to call\n",
    "instead of having your own methods/implementations.\n",
    "\n",
    "    len(my_object)\n",
    "    \n",
    "    # instead of\n",
    "    \n",
    "    my_object.len()"
   ]
  },
  {
   "cell_type": "markdown",
   "id": "496fd7d2",
   "metadata": {},
   "source": [
    "One thing that I want to bring up that has probably not been covered yet, is what they call the `Zen of Python` or the basic rules that should be followed when writing python code.  There are quite a few useful rules and we should go over them, luckily python has the list built-in to the language."
   ]
  },
  {
   "cell_type": "code",
   "execution_count": 1,
   "id": "713ba2e4",
   "metadata": {},
   "outputs": [
    {
     "name": "stdout",
     "output_type": "stream",
     "text": [
      "The Zen of Python, by Tim Peters\n",
      "\n",
      "Beautiful is better than ugly.\n",
      "Explicit is better than implicit.\n",
      "Simple is better than complex.\n",
      "Complex is better than complicated.\n",
      "Flat is better than nested.\n",
      "Sparse is better than dense.\n",
      "Readability counts.\n",
      "Special cases aren't special enough to break the rules.\n",
      "Although practicality beats purity.\n",
      "Errors should never pass silently.\n",
      "Unless explicitly silenced.\n",
      "In the face of ambiguity, refuse the temptation to guess.\n",
      "There should be one-- and preferably only one --obvious way to do it.\n",
      "Although that way may not be obvious at first unless you're Dutch.\n",
      "Now is better than never.\n",
      "Although never is often better than *right* now.\n",
      "If the implementation is hard to explain, it's a bad idea.\n",
      "If the implementation is easy to explain, it may be a good idea.\n",
      "Namespaces are one honking great idea -- let's do more of those!\n"
     ]
    }
   ],
   "source": [
    "import this"
   ]
  },
  {
   "cell_type": "markdown",
   "id": "3a15af61",
   "metadata": {},
   "source": [
    "Alright, with those rules out of the way, lets start with our first test.\n",
    "\n",
    "The first thing that we are going to create is a custom gaming deck that the book calls a `FrenchDeck`, you\n",
    "can see that we can create a `namedtuple` which is a custom data store that can be similar to structs in some\n",
    "languages, but also gives you the nice tuple functionality.\n",
    "\n",
    "We are also demonstrating the use of `__len__` and `__getitem__` dunder methods.  I also added the `__repr__`\n",
    "method to make the output in the jupyter notebook a little cleaner."
   ]
  },
  {
   "cell_type": "code",
   "execution_count": 2,
   "id": "e024505b",
   "metadata": {},
   "outputs": [],
   "source": [
    "import collections\n",
    "\n",
    "Card = collections.namedtuple('Card', ['rank', 'suit'])\n",
    "\n",
    "class FrenchDeck:\n",
    "    ranks = [str(n) for n in range(2, 11)] + list('JQKA')\n",
    "    suits = 'spades diamonds clubs hearts'.split()\n",
    "    \n",
    "    def __init__(self):\n",
    "        self._cards = [Card(rank, suit) for suit in self.suits\n",
    "                                        for rank in self.ranks]\n",
    "        \n",
    "    def __len__(self):\n",
    "        return len(self._cards)\n",
    "    \n",
    "    def __getitem__(self, position):\n",
    "        return self._cards[position]\n",
    "    \n",
    "    def __repr__(self):\n",
    "        return f'FrenchDeck()'"
   ]
  },
  {
   "cell_type": "code",
   "execution_count": 3,
   "id": "28fe7c40",
   "metadata": {},
   "outputs": [
    {
     "name": "stdout",
     "output_type": "stream",
     "text": [
      "1: FrenchDeck()\n",
      "2: Card(rank='4', suit='spades')\n",
      "3: 52\n",
      "4: Card(rank='2', suit='spades')\n",
      "4: Card(rank='3', suit='spades')\n",
      "5: Card(rank='Q', suit='clubs')\n",
      "6: [Card(rank='2', suit='spades'), Card(rank='3', suit='spades')]\n"
     ]
    }
   ],
   "source": [
    "from itertools import islice\n",
    "from random import choice\n",
    "\n",
    "my_deck = FrenchDeck()\n",
    "\n",
    "# Just demonstrate the __repr__\n",
    "print('1:', my_deck)\n",
    "\n",
    "# This works because of __getitem__\n",
    "print('2:', my_deck[2])\n",
    "\n",
    "# This works because of __len__\n",
    "print('3:', len(my_deck))\n",
    "\n",
    "# This works because of __getitem__, could also work through __iter__\n",
    "for c in islice(my_deck, 2):\n",
    "    print('4:', c)\n",
    "    \n",
    "# This works because of __len__ and __getitem__\n",
    "print('5:', choice(my_deck))\n",
    "\n",
    "# This works because of our __getitem__ implementation that supports a 'slice' position\n",
    "print('6:', my_deck[:2])"
   ]
  },
  {
   "cell_type": "markdown",
   "id": "1ab34dcf",
   "metadata": {},
   "source": [
    "From the above example we can see that by using certain \"dunder methods\" we can have our object interact with the different functions that are built-in, or even created from libraries, very easily.  The interesting part is which of the different methods are used in which cases, and even more importantly what the content of those requests are.\n",
    "\n",
    "In this next section there is an example class that has 3 different dunder methods used:\n",
    "* `__init__`\n",
    "* `__len__`\n",
    "* `__getitem__`\n",
    "\n",
    "To start lets show what is passed in and to which method when we use different python requests."
   ]
  },
  {
   "cell_type": "code",
   "execution_count": 7,
   "id": "addb69d6",
   "metadata": {},
   "outputs": [
    {
     "name": "stdout",
     "output_type": "stream",
     "text": [
      "Init:  (<__main__.ShowMethodCalls object at 0x7f7e343e6bc0>,) {}\n",
      "Len test\n",
      "Length:  (<__main__.ShowMethodCalls object at 0x7f7e343e6bc0>,) {}\n",
      "Get index\n",
      "GetItem:  (<__main__.ShowMethodCalls object at 0x7f7e343e6bc0>, 0) {}\n",
      "GetItem:  (<__main__.ShowMethodCalls object at 0x7f7e343e6bc0>, -1) {}\n",
      "GetItem:  (<__main__.ShowMethodCalls object at 0x7f7e343e6bc0>, 'test') {}\n",
      "GetItem:  (<__main__.ShowMethodCalls object at 0x7f7e343e6bc0>, ('test', 'other')) {}\n",
      "Slice index\n",
      "GetItem:  (<__main__.ShowMethodCalls object at 0x7f7e343e6bc0>, slice(None, 1, None)) {}\n",
      "GetItem:  (<__main__.ShowMethodCalls object at 0x7f7e343e6bc0>, slice(None, None, None)) {}\n"
     ]
    }
   ],
   "source": [
    "class ShowMethodCalls:\n",
    "    def __init__(*args, **kwargs):\n",
    "        print('Init: ', args, kwargs)\n",
    "        \n",
    "    def __len__(*args, **kwargs):\n",
    "        print('Length: ', args, kwargs)\n",
    "        return 0\n",
    "\n",
    "    def __getitem__(*args, **kwargs):\n",
    "        print('GetItem: ', args, kwargs)\n",
    "        \n",
    "x = ShowMethodCalls()\n",
    "print('Len test')\n",
    "len(x)\n",
    "\n",
    "print('Get index')\n",
    "x[0]\n",
    "x[-1]\n",
    "x['test']\n",
    "x['test', 'other']\n",
    "\n",
    "print('Slice index')\n",
    "x[:1]\n",
    "x[:]"
   ]
  },
  {
   "cell_type": "markdown",
   "id": "e1bd88d2",
   "metadata": {},
   "source": [
    "We can see some interesting things, the first is understanding that the first argument will always be a pointer to the instance itself, which is why we put self in there. (**NOTE:** for other languages this is automatically handled and put into the `this` variable).\n",
    "\n",
    "The next interesting item is what is passed to `__getitem__`.  It is still just one extra argument after `self`, but in this case it changes the type depending on what you are passing. You can supply anything inside the brackets that is valid python and it will pass the result as the type supplied, which is most odd when you pass a slice.  This actually creates an instance of the `slice` type which gives you the start, stop and increment fields.\n",
    "\n",
    "Lets not compare when `__getitem__` is used vs `__iter__` if both are supplied.Cython-0.29.28"
   ]
  },
  {
   "cell_type": "code",
   "execution_count": 19,
   "id": "5e7fc518",
   "metadata": {},
   "outputs": [
    {
     "name": "stdout",
     "output_type": "stream",
     "text": [
      "Sample with only len, getitem\n",
      "GetItem: 0\n",
      "GetItem: slice(None, 2, None)\n",
      "GetItem: 0\n",
      "GetItem: 1\n",
      "GetItem: 0\n",
      "\n",
      "Sample with iter and len, getitem\n",
      "GetItem: 0\n",
      "GetItem: slice(None, 2, None)\n",
      "Iter: 0 () {}\n",
      "Iter: 1 () {}\n",
      "Iter: 0 () {}\n"
     ]
    }
   ],
   "source": [
    "class NoIter:\n",
    "    def __len__(self):\n",
    "        print('Len')\n",
    "        return 2\n",
    "    \n",
    "    def __getitem__(self, position):\n",
    "        print('GetItem:', position)\n",
    "        return 0\n",
    "\n",
    "class WithIter(NoIter):\n",
    "    def __iter__(self, *args, **kwargs):\n",
    "        count = 0\n",
    "        while True:\n",
    "            print(f'Iter: {count}', args, kwargs)\n",
    "            yield count\n",
    "            count += 1\n",
    "            \n",
    "print('Sample with only len, getitem')\n",
    "x = NoIter()\n",
    "x[0]\n",
    "x[:2]\n",
    "for _ in islice(x, 2):\n",
    "    pass\n",
    "for _ in x:\n",
    "    break\n",
    "    \n",
    "\n",
    "print('\\nSample with iter and len, getitem')\n",
    "y = WithIter()\n",
    "y[0]\n",
    "y[:2]\n",
    "for _ in islice(y, 2):\n",
    "    pass\n",
    "for _ in y:\n",
    "    break"
   ]
  },
  {
   "cell_type": "markdown",
   "id": "01119732",
   "metadata": {},
   "source": [
    "So you can see that it will fallback to `__getitem__` if the `__iter__` is not available.  I believe this is true in almost 100% of the cases if not 100% (can't think of a situation it wouldn't work in). One really important thing to call out though, the way that `__iter__` works is by returning an object that provides the special method `__next__` which is used by the python interpreter when iterating.  The above code could actually be changed to be the following."
   ]
  },
  {
   "cell_type": "code",
   "execution_count": 20,
   "id": "75194c67",
   "metadata": {},
   "outputs": [
    {
     "name": "stdout",
     "output_type": "stream",
     "text": [
      "Iter: 0\n",
      "Iter: 1\n",
      "Iter: 0\n"
     ]
    }
   ],
   "source": [
    "class IterAndNext:\n",
    "    def __iter__(self):\n",
    "        class MyNext:\n",
    "            count = 0\n",
    "            def __next__(self):\n",
    "                print(f'Iter: {self.count}')\n",
    "                orig = self.count\n",
    "                self.count += 1\n",
    "                return orig\n",
    "        return MyNext()\n",
    "\n",
    "x = IterAndNext()\n",
    "for _ in islice(x, 2):\n",
    "    pass\n",
    "for _ in x:\n",
    "    break"
   ]
  },
  {
   "cell_type": "markdown",
   "id": "8652e4ba",
   "metadata": {},
   "source": [
    "## String vs Repr\n",
    "\n",
    "There are two different ways that we can represent our class instance as a string, these are handled by the `__repr__` and `__str__` dunder methods.  One of the interesting things is the order of operation that they are implemented in as there is a fallback that takes places when one of the methods is not created."
   ]
  },
  {
   "cell_type": "code",
   "execution_count": 21,
   "id": "6ff28c3d",
   "metadata": {},
   "outputs": [
    {
     "name": "stdout",
     "output_type": "stream",
     "text": [
      "Str: WithStr\n"
     ]
    },
    {
     "data": {
      "text/plain": [
       "<__main__.WithStr at 0x7f7e340e4190>"
      ]
     },
     "metadata": {},
     "output_type": "display_data"
    },
    {
     "name": "stdout",
     "output_type": "stream",
     "text": [
      "Repr: WithRepr\n"
     ]
    },
    {
     "data": {
      "text/plain": [
       "Repr: WithRepr"
      ]
     },
     "metadata": {},
     "output_type": "display_data"
    },
    {
     "name": "stdout",
     "output_type": "stream",
     "text": [
      "Str: WithBoth\n"
     ]
    },
    {
     "data": {
      "text/plain": [
       "Repr: WithBoth"
      ]
     },
     "metadata": {},
     "output_type": "display_data"
    }
   ],
   "source": [
    "class WithStr:\n",
    "    def __str__(self):\n",
    "        return f'Str: WithStr'\n",
    "    \n",
    "class WithRepr:\n",
    "    def __repr__(self):\n",
    "        return f'Repr: WithRepr'\n",
    "    \n",
    "class WithBoth:\n",
    "    def __str__(self):\n",
    "        return f'Str: WithBoth'\n",
    "    def __repr__(self):\n",
    "        return f'Repr: WithBoth'\n",
    "    \n",
    "x = WithStr()\n",
    "print(x)\n",
    "display(x)\n",
    "\n",
    "x = WithRepr()\n",
    "print(x)\n",
    "display(x)\n",
    "\n",
    "x = WithBoth()\n",
    "print(x)\n",
    "display(x)"
   ]
  },
  {
   "cell_type": "markdown",
   "id": "1a63ed62",
   "metadata": {},
   "source": [
    "Given the above it is often best to either implement just `__repr__` or both of them.  While `__str__` does fallback to `__repr__` it is important to understand the use of both of these methods.  The `__repr__` should be used to display an output that if pasted in a repr would recreate the instance of the class.\n",
    "\n",
    "```\n",
    "class MyClass:\n",
    "    def __init__(self, name):\n",
    "        ...\n",
    "    def __repr__(self):\n",
    "        return f'MyClass({name})'\n",
    "```\n",
    "\n",
    "On the other hand, `__str__` should be able to provide useful information for a consumer of the data, which may or may not be an engineer.  While a fallback to `__repr__` is useful, you need to be careful to not introduce sensitive information that may be useful while developing, but should never get out in production. "
   ]
  },
  {
   "cell_type": "markdown",
   "id": "d712c1a1",
   "metadata": {},
   "source": [
    "## Collection API\n",
    "\n",
    "One other section that is covered is the collection api and describing the inheritance structure of the API.  It is important to note that you actually don't need to inherit from anything to use the api, you just need to implement the correct dunder methods and your custom class will act like that portion of a collection.\n",
    "\n",
    "Let's try a couple of different APIs out."
   ]
  },
  {
   "cell_type": "code",
   "execution_count": 27,
   "id": "60273fb1",
   "metadata": {},
   "outputs": [
    {
     "name": "stdout",
     "output_type": "stream",
     "text": [
      "Contains: (10,) {}\n",
      "Contains: ('a',) {}\n",
      "Contains: (('a', 'b'),) {}\n",
      "Getitem: 0\n"
     ]
    },
    {
     "data": {
      "text/plain": [
       "True"
      ]
     },
     "execution_count": 27,
     "metadata": {},
     "output_type": "execute_result"
    }
   ],
   "source": [
    "class DoIHaveIt:\n",
    "    def __contains__(self, *args, **kwargs):\n",
    "        print('Contains:', args, kwargs)\n",
    "        return False\n",
    "\n",
    "class ContainsNoContain:\n",
    "    def __getitem__(self, position):\n",
    "        print('Getitem:', position)\n",
    "        if position > 2:\n",
    "            raise IndexError()\n",
    "        return 0\n",
    "    \n",
    "x = DoIHaveIt()\n",
    "10 in x\n",
    "'a' in x\n",
    "('a', 'b') in x\n",
    "\n",
    "y = ContainsNoContain()\n",
    "0 in y"
   ]
  },
  {
   "cell_type": "markdown",
   "id": "f72ea4f1",
   "metadata": {},
   "source": [
    "It is important to check though as some of the more \"advanced\" collection classes do have other methods that have to be implemented for example a `Map` needs to implement `keys` and `values`."
   ]
  },
  {
   "cell_type": "markdown",
   "id": "24cb2168",
   "metadata": {},
   "source": [
    "## Operator Overloading\n",
    "\n",
    "Python, unlike Java, does support the notion of operator overloading and \"surprise, surprise\" it is handled through dunder methods.  The interesting part of python is that it supports operations that might be different from most other languages.  Some of these include `__abs__`, `__round__`, `__pow__` and others. The potential downside is that you can also overload operators to not function in the same way (say a different impl for `__add__` vs `__radd__` or `__iadd__`.  Let's look at some examples."
   ]
  },
  {
   "cell_type": "code",
   "execution_count": 43,
   "id": "ff2d89fd",
   "metadata": {},
   "outputs": [
    {
     "name": "stdout",
     "output_type": "stream",
     "text": [
      "MyBadMath(23)\n",
      "MyBadMath(13)\n",
      "MyBadMath(6)\n",
      "MyBadMath(-4)\n",
      "My add\n",
      "MyBadMath(-4)\n"
     ]
    }
   ],
   "source": [
    "class MyBadMath:\n",
    "    def __init__(self, num):\n",
    "        self.num = num\n",
    "        \n",
    "    def __add__(self, other):\n",
    "        return MyBadMath(self.num + int(other))\n",
    "    \n",
    "    def __radd__(self, other):\n",
    "        return MyBadMath(self.num - int(other))\n",
    "    \n",
    "    def __iadd__(self, amount):\n",
    "        return MyBadMath(self.num + self.num)\n",
    "    \n",
    "    def __repr__(self):\n",
    "        return f'MyBadMath({self.num})'\n",
    "\n",
    "class OtherMath:\n",
    "    def __add__(self, right):\n",
    "        print('My add')\n",
    "        if type(right) != int:\n",
    "            return NotImplemented\n",
    "        return self\n",
    "    \n",
    "    def __radd__(self, right):\n",
    "        print('My radd')\n",
    "        return right\n",
    "    \n",
    "    def __int__(self):\n",
    "        return 10\n",
    "\n",
    "x = MyBadMath(3)\n",
    "print(x + '20')\n",
    "print(x + 10)\n",
    "x += 10; print(x)\n",
    "print(10 + x)\n",
    "\n",
    "y = OtherMath()\n",
    "print(y + x)"
   ]
  },
  {
   "cell_type": "markdown",
   "id": "410dc001",
   "metadata": {},
   "source": [
    "Of course you don't actually have to implement all the math methods to still get some common functionality, unlike C++."
   ]
  },
  {
   "cell_type": "code",
   "execution_count": 51,
   "id": "e8910dbe",
   "metadata": {},
   "outputs": [
    {
     "name": "stdout",
     "output_type": "stream",
     "text": [
      "PartialMath(13)\n",
      "PartialMath(4)\n"
     ]
    },
    {
     "ename": "TypeError",
     "evalue": "unsupported operand type(s) for +: 'int' and 'PartialMath'",
     "output_type": "error",
     "traceback": [
      "\u001b[0;31m---------------------------------------------------------------------------\u001b[0m",
      "\u001b[0;31mTypeError\u001b[0m                                 Traceback (most recent call last)",
      "Input \u001b[0;32mIn [51]\u001b[0m, in \u001b[0;36m<cell line: 17>\u001b[0;34m()\u001b[0m\n\u001b[1;32m     15\u001b[0m x \u001b[38;5;241m+\u001b[39m\u001b[38;5;241m=\u001b[39m \u001b[38;5;241m1\u001b[39m\n\u001b[1;32m     16\u001b[0m \u001b[38;5;28mprint\u001b[39m(x)\n\u001b[0;32m---> 17\u001b[0m \u001b[38;5;28mprint\u001b[39m(\u001b[38;5;241;43m10\u001b[39;49m\u001b[43m \u001b[49m\u001b[38;5;241;43m+\u001b[39;49m\u001b[43m \u001b[49m\u001b[43mx\u001b[49m)\n",
      "\u001b[0;31mTypeError\u001b[0m: unsupported operand type(s) for +: 'int' and 'PartialMath'"
     ]
    }
   ],
   "source": [
    "class PartialMath:\n",
    "    def __init__(self, num):\n",
    "        self.num = num\n",
    "        \n",
    "    def __add__(self, other):\n",
    "        return PartialMath(self.num + other)\n",
    "    \n",
    "    def __repr__(self):\n",
    "        return f'PartialMath({self.num})'\n",
    "    \n",
    "#display(dir(PartialMath(2)))\n",
    "\n",
    "x = PartialMath(3)\n",
    "print(x + 10)\n",
    "x += 1\n",
    "print(x)\n",
    "print(10 + x)"
   ]
  },
  {
   "cell_type": "markdown",
   "id": "c1e31e3e",
   "metadata": {},
   "source": [
    "## Bool operator\n",
    "\n",
    "Python has the notion of _truthy_ which means that anything can be used in a logic evaluation.  There are some important rules as to what is consider false with most objects.  The reason we call out false first is because the list is smaller and anything not on the list will default to true.\n",
    "\n",
    "* Numerics who value is equivelant to 0\n",
    "  * 0, 0.0, etc\n",
    "* Empty sequences\n",
    "  * '', [], (), {}, etc\n",
    "* None\n",
    "* False\n",
    "\n",
    "This means that instances of a custom class would be considered `True`, although that is not always what you want. To be able to adjust how your custom class responds you can overload the `__bool__` method.  When you do this you do need to return an actual boolean instance in the response."
   ]
  },
  {
   "cell_type": "code",
   "execution_count": 52,
   "id": "c6fae90e",
   "metadata": {},
   "outputs": [
    {
     "name": "stdout",
     "output_type": "stream",
     "text": [
      "2 True\n",
      "10241 False\n"
     ]
    }
   ],
   "source": [
    "class MyEvens:\n",
    "    def __init__(self, num):\n",
    "        self.num = num\n",
    "    def __bool__(self):\n",
    "        return self.num % 2 == 0\n",
    "    \n",
    "print(f'2', bool(MyEvens(2)))\n",
    "print(f'10241', bool(MyEvens(10241)))"
   ]
  },
  {
   "cell_type": "markdown",
   "id": "659164d5",
   "metadata": {},
   "source": [
    "## Practice\n",
    "\n",
    "For this next section we are going to use what we have learned about the object model to complete the following code segment. This one is pretty simple we are going to implement Fibonacci from a class that follows the data model. There is some driver code that you will run to verify your implementation works as expected."
   ]
  },
  {
   "cell_type": "code",
   "execution_count": null,
   "id": "619d5f5b",
   "metadata": {},
   "outputs": [],
   "source": [
    "class FibonacciYield:\n",
    "    \"\"\"\n",
    "    This class should be able to act as an iterable that will always start the sequence\n",
    "    over when a new iterator is created\n",
    "    \"\"\"\n",
    "    pass\n"
   ]
  },
  {
   "cell_type": "code",
   "execution_count": null,
   "id": "1deebd39",
   "metadata": {
    "jupyter": {
     "source_hidden": true
    },
    "tags": []
   },
   "outputs": [],
   "source": [
    "#\n",
    "# Sample Answer\n",
    "#\n",
    "\n",
    "class SampleFibonacciYield:\n",
    "    \"\"\"\n",
    "    This class should be able to act as an iterable that will always start the sequence\n",
    "    over when a new iterator is created\n",
    "    \"\"\"\n",
    "    def __iter__(self):\n",
    "        previous = 1\n",
    "        yield previous\n",
    "        current = 1\n",
    "        yield current\n",
    "        while True:\n",
    "            current, previous = current + previous, current\n",
    "            yield current"
   ]
  },
  {
   "cell_type": "code",
   "execution_count": null,
   "id": "368b6dbc",
   "metadata": {},
   "outputs": [],
   "source": [
    "x = FibonacciYield()\n",
    "\n",
    "first_ten = [n[0] for n in zip(x, range(10))]\n",
    "expected_ten = [1, 1, 2, 3, 5, 8, 13, 21, 34, 55]\n",
    "\n",
    "assert first_ten == expected_ten"
   ]
  },
  {
   "cell_type": "code",
   "execution_count": null,
   "id": "52f77e39-c10a-40d9-ad19-b02bae44c72c",
   "metadata": {},
   "outputs": [],
   "source": [
    "class FibonacciNext:\n",
    "    \"\"\"\n",
    "    This class should be able to act as an interable that will continue the sequence when\n",
    "    a new instance of the iterator is requested\n",
    "    \"\"\"\n",
    "    pass"
   ]
  },
  {
   "cell_type": "code",
   "execution_count": null,
   "id": "0461b2a9",
   "metadata": {
    "jupyter": {
     "source_hidden": true
    },
    "tags": []
   },
   "outputs": [],
   "source": [
    "class SampleFibonacciNext:\n",
    "    \"\"\"\n",
    "    This class should be able to act as an interable that will continue the sequence when\n",
    "    a new instance of the iterator is requested\n",
    "    \"\"\"\n",
    "    def __init__(self):\n",
    "        self.current = 1\n",
    "        self.previous = 1\n",
    "        self.count = 0\n",
    "        \n",
    "    def __iter__(self):\n",
    "        return self\n",
    "    \n",
    "    def __next__(self):\n",
    "        #print('In next', self.count)\n",
    "        orig_count = self.count\n",
    "        self.count += 1\n",
    "        \n",
    "        if orig_count == 0:\n",
    "            return self.previous\n",
    "        if orig_count == 1:\n",
    "            return self.current\n",
    "        \n",
    "        self.current, self.previous = self.current + self.previous, self.current\n",
    "        return self.current\n",
    "        "
   ]
  },
  {
   "cell_type": "code",
   "execution_count": null,
   "id": "28de3cee",
   "metadata": {},
   "outputs": [],
   "source": [
    "x = FibonacciNext()\n",
    "\n",
    "first_five = [n[0] for n in zip(x, range(5))]\n",
    "expected_five = [1, 1, 2, 3, 5]\n",
    "assert first_five == expected_five\n",
    "\n",
    "next_five = [n[0] for n in zip(x, range(5))]\n",
    "expected_next = [13, 21, 34, 55, 89]\n",
    "assert next_five == expected_next\n"
   ]
  },
  {
   "cell_type": "code",
   "execution_count": null,
   "id": "165bc805-9b6f-4ce7-88de-ef0d646f38c8",
   "metadata": {},
   "outputs": [],
   "source": []
  }
 ],
 "metadata": {
  "kernelspec": {
   "display_name": "Python 3 (ipykernel)",
   "language": "python",
   "name": "python3"
  },
  "language_info": {
   "codemirror_mode": {
    "name": "ipython",
    "version": 3
   },
   "file_extension": ".py",
   "mimetype": "text/x-python",
   "name": "python",
   "nbconvert_exporter": "python",
   "pygments_lexer": "ipython3",
   "version": "3.10.4"
  }
 },
 "nbformat": 4,
 "nbformat_minor": 5
}
